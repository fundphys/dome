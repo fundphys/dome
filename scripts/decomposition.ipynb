{
 "cells": [
  {
   "cell_type": "code",
   "execution_count": 30,
   "metadata": {},
   "outputs": [],
   "source": [
    "import matplotlib.pyplot as plt\n",
    "import statsmodels.api as sm\n",
    "import pandas as pd\n",
    "import numpy as np\n",
    "from pylab import rcParams\n",
    "rcParams['figure.figsize'] = 11, 9\n",
    "\n",
    "\n",
    "inside_temp = pd.read_csv('../data/temp_71_from_2017_01_01.csv', ',',\n",
    "                   header=0, names = ['timestamp', 't0', 't1', 't2', 't3', 't4', 't6'],\n",
    "                   parse_dates=[0], index_col=0, squeeze=True)\n",
    "\n",
    "outside_temp = pd.read_csv('../data/outside.csv', ',',\n",
    "                   header=0, names = ['timestamp', 'temp', 'rh', 'dew_point', 'press', 'rain', 'wind', 'wind_dir', 'pwv'],\n",
    "                   parse_dates=[0], index_col=0, squeeze=True)\n",
    "\n",
    "inside_temp.drop('t3', axis=1, inplace=True)\n",
    "inside_temp.drop('t6', axis=1, inplace=True)"
   ]
  },
  {
   "cell_type": "code",
   "execution_count": 41,
   "metadata": {},
   "outputs": [
    {
     "ename": "ValueError",
     "evalue": "This function does not handle missing values",
     "output_type": "error",
     "traceback": [
      "\u001b[0;31m---------------------------------------------------------------------------\u001b[0m",
      "\u001b[0;31mValueError\u001b[0m                                Traceback (most recent call last)",
      "\u001b[0;32m<ipython-input-41-6591627c308d>\u001b[0m in \u001b[0;36m<module>\u001b[0;34m()\u001b[0m\n\u001b[1;32m     43\u001b[0m \u001b[0;34m\u001b[0m\u001b[0m\n\u001b[1;32m     44\u001b[0m \u001b[0;31m#ins_t1_decomposition = sm.tsa.seasonal_decompose(ins_t1, model='additive')\u001b[0m\u001b[0;34m\u001b[0m\u001b[0;34m\u001b[0m\u001b[0m\n\u001b[0;32m---> 45\u001b[0;31m \u001b[0mout_t_decomposition\u001b[0m \u001b[0;34m=\u001b[0m \u001b[0msm\u001b[0m\u001b[0;34m.\u001b[0m\u001b[0mtsa\u001b[0m\u001b[0;34m.\u001b[0m\u001b[0mseasonal_decompose\u001b[0m\u001b[0;34m(\u001b[0m\u001b[0mout_t\u001b[0m\u001b[0;34m,\u001b[0m \u001b[0mmodel\u001b[0m\u001b[0;34m=\u001b[0m\u001b[0;34m'additive'\u001b[0m\u001b[0;34m)\u001b[0m\u001b[0;34m\u001b[0m\u001b[0m\n\u001b[0m\u001b[1;32m     46\u001b[0m \u001b[0;34m\u001b[0m\u001b[0m\n\u001b[1;32m     47\u001b[0m \u001b[0;31m#ax = out_t_decomposition.plot(label='Outside temperature (VAISALA)', figsize=(15,6))\u001b[0m\u001b[0;34m\u001b[0m\u001b[0;34m\u001b[0m\u001b[0m\n",
      "\u001b[0;32m~/master/dome/env/lib/python3.6/site-packages/statsmodels/tsa/seasonal.py\u001b[0m in \u001b[0;36mseasonal_decompose\u001b[0;34m(x, model, filt, freq, two_sided)\u001b[0m\n\u001b[1;32m     71\u001b[0m \u001b[0;34m\u001b[0m\u001b[0m\n\u001b[1;32m     72\u001b[0m     \u001b[0;32mif\u001b[0m \u001b[0;32mnot\u001b[0m \u001b[0mnp\u001b[0m\u001b[0;34m.\u001b[0m\u001b[0mall\u001b[0m\u001b[0;34m(\u001b[0m\u001b[0mnp\u001b[0m\u001b[0;34m.\u001b[0m\u001b[0misfinite\u001b[0m\u001b[0;34m(\u001b[0m\u001b[0mx\u001b[0m\u001b[0;34m)\u001b[0m\u001b[0;34m)\u001b[0m\u001b[0;34m:\u001b[0m\u001b[0;34m\u001b[0m\u001b[0m\n\u001b[0;32m---> 73\u001b[0;31m         \u001b[0;32mraise\u001b[0m \u001b[0mValueError\u001b[0m\u001b[0;34m(\u001b[0m\u001b[0;34m\"This function does not handle missing values\"\u001b[0m\u001b[0;34m)\u001b[0m\u001b[0;34m\u001b[0m\u001b[0m\n\u001b[0m\u001b[1;32m     74\u001b[0m     \u001b[0;32mif\u001b[0m \u001b[0mmodel\u001b[0m\u001b[0;34m.\u001b[0m\u001b[0mstartswith\u001b[0m\u001b[0;34m(\u001b[0m\u001b[0;34m'm'\u001b[0m\u001b[0;34m)\u001b[0m\u001b[0;34m:\u001b[0m\u001b[0;34m\u001b[0m\u001b[0m\n\u001b[1;32m     75\u001b[0m         \u001b[0;32mif\u001b[0m \u001b[0mnp\u001b[0m\u001b[0;34m.\u001b[0m\u001b[0many\u001b[0m\u001b[0;34m(\u001b[0m\u001b[0mx\u001b[0m \u001b[0;34m<=\u001b[0m \u001b[0;36m0\u001b[0m\u001b[0;34m)\u001b[0m\u001b[0;34m:\u001b[0m\u001b[0;34m\u001b[0m\u001b[0m\n",
      "\u001b[0;31mValueError\u001b[0m: This function does not handle missing values"
     ]
    }
   ],
   "source": [
    "out_t = outside_temp['temp'].replace(to_replace=-1000, value=np.nan)\n",
    "ins_t0 = inside_temp['t0'].replace(to_replace=-1000, value=np.nan)\n",
    "ins_t1 = inside_temp['t1'].replace(to_replace=-1000, value=np.nan)\n",
    "ins_t2 = inside_temp['t2'].replace(to_replace=-1000, value=np.nan)\n",
    "ins_t4 = inside_temp['t4'].replace(to_replace=-1000, value=np.nan)\n",
    "\n",
    "\n",
    "start_date = '2018-01-01'\n",
    "stop_date = '2018-03-01'\n",
    "\n",
    "out_t = out_t[start_date:]\n",
    "ins_t0 = ins_t0[start_date:]\n",
    "ins_t1 = ins_t1[start_date:]\n",
    "ins_t2 = ins_t2[start_date:]\n",
    "ins_t4 = ins_t4[start_date:]\n",
    "\n",
    "\n",
    "\n",
    "\n",
    "out_t = out_t.fillna(out_t.bfill())\n",
    "ins_t0 = ins_t0.fillna(ins_t0.bfill())\n",
    "ins_t1 = ins_t1.fillna(ins_t1.bfill())\n",
    "ins_t2 = ins_t2.fillna(ins_t2.bfill())\n",
    "ins_t4 = ins_t4.fillna(ins_t4.bfill())\n",
    "\n",
    "\n",
    "out_t = out_t.resample('H').mean()\n",
    "ins_t0 = ins_t0.resample('H').mean()\n",
    "ins_t1 = ins_t1.resample('H').mean()\n",
    "ins_t2 = ins_t2.resample('H').mean()\n",
    "ins_t4 = ins_t4.resample('H').mean()\n",
    "\n",
    "\n",
    "ax = out_t.plot(label='Outside temperature (VAISALA)', figsize=(15,6))\n",
    "\n",
    "ins_t0.plot(label='t0', ax=ax)\n",
    "ins_t1.plot(label='t1', ax=ax)\n",
    "ins_t2.plot(label='t2', ax=ax)\n",
    "ins_t4.plot(label='t4', ax=ax)\n",
    "\n",
    "\n",
    "# decomposition = sm.tsa.seasonal_decompose(ins_t, model='additive')\n",
    "# fig = decomposition.plot()\n",
    "ax.set_xlabel('Date')\n",
    "ax.set_ylabel('Temperature, C')\n",
    "\n",
    "plt.legend()\n",
    "plt.show()\n",
    "\n",
    "#print(decomposition.resid.std())"
   ]
  }
 ],
 "metadata": {
  "kernelspec": {
   "display_name": "Python 3",
   "language": "python",
   "name": "python3"
  },
  "language_info": {
   "codemirror_mode": {
    "name": "ipython",
    "version": 3
   },
   "file_extension": ".py",
   "mimetype": "text/x-python",
   "name": "python",
   "nbconvert_exporter": "python",
   "pygments_lexer": "ipython3",
   "version": "3.6.3"
  }
 },
 "nbformat": 4,
 "nbformat_minor": 2
}
